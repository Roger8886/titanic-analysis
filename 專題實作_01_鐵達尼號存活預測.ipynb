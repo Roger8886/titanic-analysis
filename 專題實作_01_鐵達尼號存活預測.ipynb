{
  "nbformat": 4,
  "nbformat_minor": 0,
  "metadata": {
    "colab": {
      "name": "專題實作 #01: 鐵達尼號存活預測.ipynb",
      "provenance": [],
      "authorship_tag": "ABX9TyNT3l+CabzDvkEImvaJXYBl",
      "include_colab_link": true
    },
    "kernelspec": {
      "name": "python3",
      "display_name": "Python 3"
    },
    "language_info": {
      "name": "python"
    }
  },
  "cells": [
    {
      "cell_type": "markdown",
      "metadata": {
        "id": "view-in-github",
        "colab_type": "text"
      },
      "source": [
        "<a href=\"https://colab.research.google.com/github/Roger8886/titanic-analysis/blob/main/%E5%B0%88%E9%A1%8C%E5%AF%A6%E4%BD%9C_01_%E9%90%B5%E9%81%94%E5%B0%BC%E8%99%9F%E5%AD%98%E6%B4%BB%E9%A0%90%E6%B8%AC.ipynb\" target=\"_parent\"><img src=\"https://colab.research.google.com/assets/colab-badge.svg\" alt=\"Open In Colab\"/></a>"
      ]
    },
    {
      "cell_type": "markdown",
      "source": [
        "# 專題實作 #01: 鐵達尼號存活預測"
      ],
      "metadata": {
        "id": "tTxzjtM_LP_r"
      }
    },
    {
      "cell_type": "markdown",
      "source": [
        "# 環境準備"
      ],
      "metadata": {
        "id": "PR8KNGsSL4A_"
      }
    },
    {
      "cell_type": "code",
      "source": [
        "import pandas as pd\n",
        "import numpy as ns"
      ],
      "metadata": {
        "id": "LonldPWmMEIN"
      },
      "execution_count": null,
      "outputs": []
    }
  ]
}